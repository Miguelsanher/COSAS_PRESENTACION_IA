{
 "cells": [
  {
   "cell_type": "code",
   "execution_count": 1,
   "id": "b870f665-13af-41a9-85d5-00cb478a9387",
   "metadata": {},
   "outputs": [
    {
     "name": "stdout",
     "output_type": "stream",
     "text": [
      "WARNING:tensorflow:From C:\\Users\\Miguel\\AppData\\Local\\Temp\\ipykernel_18488\\557303011.py:8: experimental_run_functions_eagerly (from tensorflow.python.eager.def_function) is deprecated and will be removed in a future version.\n",
      "Instructions for updating:\n",
      "Use `tf.config.run_functions_eagerly` instead of the experimental version.\n"
     ]
    }
   ],
   "source": [
    "import tensorflow as tf\n",
    "import matplotlib.pyplot as plt\n",
    "import cv2\n",
    "import numpy as np\n",
    "tf.config.run_functions_eagerly(True)\n",
    "import os\n",
    "os.environ['KMP_DUPLICATE_LIB_OK']='True' #esta linea salva vidas\n",
    "tf.config.experimental_run_functions_eagerly(False)"
   ]
  },
  {
   "cell_type": "code",
   "execution_count": 2,
   "id": "da3f60af-71a2-4b51-90a9-eb14b51fdb82",
   "metadata": {},
   "outputs": [
    {
     "name": "stdout",
     "output_type": "stream",
     "text": [
      "Found 3661 files belonging to 2 classes.\n",
      "Using 3112 files for training.\n"
     ]
    }
   ],
   "source": [
    "ds_train = tf.keras.preprocessing.image_dataset_from_directory(\n",
    "    'C:/Users/Miguel/Desktop/Fotos para IA/Reptiles/Cocodrilo vs Aligator',\n",
    "    labels='inferred',\n",
    "    label_mode=\"binary\",#probar a poner binario \n",
    "    class_names=['Cocodrilo', 'Alligator'],\n",
    "    color_mode='rgb',\n",
    "    batch_size=None, #Se especificara mas adelante\n",
    "    image_size=(224,224), #Redimension de imagenes\n",
    "    shuffle=True,  #Baraja las imagenes\n",
    "    seed=123,#Semilla estatica\n",
    "    validation_split=0.15,\n",
    "    subset=\"training\",\n",
    "\n",
    ")"
   ]
  },
  {
   "cell_type": "code",
   "execution_count": 3,
   "id": "ce3abd48-4c79-4439-a00a-71377592b1b3",
   "metadata": {},
   "outputs": [
    {
     "name": "stdout",
     "output_type": "stream",
     "text": [
      "Found 3661 files belonging to 2 classes.\n",
      "Using 549 files for validation.\n"
     ]
    }
   ],
   "source": [
    "ds_validation = tf.keras.preprocessing.image_dataset_from_directory(\n",
    "    'C:/Users/Miguel/Desktop/Fotos para IA/Reptiles/Cocodrilo vs Aligator',\n",
    "    labels='inferred',\n",
    "    label_mode=\"binary\",\n",
    "    class_names=['Cocodrilo', 'Alligator'],\n",
    "    color_mode='rgb',\n",
    "    batch_size=None, #Se especificara mas adelante\n",
    "    image_size=(224,224), #Para redimensionar las imagenes\n",
    "    shuffle=True,  #Baraja las imagenes\n",
    "    seed=123,#Semilla estatica\n",
    "    validation_split=0.15,\n",
    "    subset=\"validation\",\n",
    "\n",
    "\n",
    ")"
   ]
  },
  {
   "cell_type": "code",
   "execution_count": 4,
   "id": "5e860afa-dc21-479c-8dc4-2c63cf94b68b",
   "metadata": {},
   "outputs": [],
   "source": [
    "#IMAGENES Y LABELS TRAIN\n",
    "X=[]\n",
    "Y=[]\n",
    "for i,(img,label) in enumerate(ds_train):\n",
    "  #img=cv2.resize(img.numpy(),(tamano_img, tamano_img)) ya hemmos redimensionado\n",
    "  #img=img.reshape(tamano_img, tamano_img,3)\n",
    "  X.append(img/255)#dividimos entre 255 para normalizar o se va todo a la mierda\n",
    "  Y.append(label)"
   ]
  },
  {
   "cell_type": "code",
   "execution_count": 5,
   "id": "cb47bea7-f05c-4451-8362-a94b0f1efa8e",
   "metadata": {},
   "outputs": [],
   "source": [
    "#IMAGENES Y LABELS TEST\n",
    "Xtest=[]\n",
    "Ytest=[]\n",
    "for i,(img,label) in enumerate(ds_validation):\n",
    "  #img=cv2.resize(img.numpy(),(tamano_img, tamano_img)) ya hemmos redimensionado\n",
    "  #img=img.reshape(tamano_img, tamano_img,3)\n",
    "  Xtest.append(img/255)#dividimos entre 255 para normalizar o se va todo a la mierda\n",
    "  Ytest.append(label)"
   ]
  },
  {
   "cell_type": "code",
   "execution_count": 6,
   "id": "7b336f0b-794c-466a-b4db-baf1997634e7",
   "metadata": {},
   "outputs": [
    {
     "name": "stdout",
     "output_type": "stream",
     "text": [
      "Numero de fotos eliminados: 0\n"
     ]
    }
   ],
   "source": [
    "#FUNCION PARA COMPROBAR SI LAS IMAGENES SON COMPATIBLES CON TENSORFLOW\n",
    "from pathlib import Path\n",
    "import imghdr\n",
    "contador=0\n",
    "data_dir = \"C:/Users/Miguel/Desktop/Fotos para IA/Reptiles/Cocodrilo vs Aligator\"\n",
    "image_extensions = [\".png\", \".jpg\",\".jpeg\"]  # add there all your images file extensions\n",
    "\n",
    "img_type_accepted_by_tf = [\"bmp\", \"gif\", \"jpeg\", \"png\"]\n",
    "for filepath in Path(data_dir).rglob(\"*\"):\n",
    "    \n",
    "    if filepath.suffix.lower() in image_extensions:\n",
    "        img_type = imghdr.what(filepath)\n",
    "        if img_type is None:\n",
    "            print(f\"{filepath} is not an image\")\n",
    "            contador+=1\n",
    "            os.remove(filepath)\n",
    "        elif img_type not in img_type_accepted_by_tf:\n",
    "            print(f\"{filepath} is a {img_type}, not accepted by TensorFlow\")\n",
    "            contador+=1\n",
    "            os.remove(filepath)\n",
    "            \n",
    "print(f\"Numero de fotos eliminados: {contador}\")"
   ]
  },
  {
   "cell_type": "code",
   "execution_count": 7,
   "id": "09ebb9bc-028a-4bd8-a0f4-08f76711cfcf",
   "metadata": {},
   "outputs": [],
   "source": [
    "X=np.array(X)\n",
    "Xtest=np.array(Xtest)\n",
    "X[0]\n",
    "Y=np.array(Y)\n",
    "Ytest=np.array(Ytest)\n"
   ]
  },
  {
   "cell_type": "code",
   "execution_count": null,
   "id": "ae9934ad-a73e-4f6a-b349-290507d1cd17",
   "metadata": {},
   "outputs": [],
   "source": [
    "#PEQUEÑAS COMPROBACIONES\n",
    "print(Y.shape)\n",
    "print(X.shape)"
   ]
  },
  {
   "cell_type": "code",
   "execution_count": 8,
   "id": "a89cee13-320b-437b-826a-02542dc77b00",
   "metadata": {},
   "outputs": [],
   "source": [
    "#CREAMOS NUESTRO MODIFICADOR DE IMAGENES\n",
    "datagen = tf.keras.preprocessing.image.ImageDataGenerator(\n",
    "    rotation_range=50,\n",
    "    width_shift_range=0.2,\n",
    "    height_shift_range=0.2,\n",
    "    shear_range=0.01, #ojito con el shear range\n",
    "    zoom_range=[0.6,1.2],\n",
    "    horizontal_flip=True,\n",
    "    vertical_flip=True,\n",
    "    brightness_range=[0.8,1.2]\n",
    "\n",
    "\n",
    "\n",
    ")\n",
    "data_gen_entrenamiento=datagen.flow(X,Y,batch_size=32)\n",
    "data_gen_test=datagen.flow(Xtest,Ytest,batch_size=32)\n",
    "#Le pasamos las imagenes y labels de entrenamiento\n",
    "#Si algo falla aseurarse de tener las listas como np.array"
   ]
  },
  {
   "cell_type": "markdown",
   "id": "1a274025-8c6b-4d57-ad44-7150eb58fc90",
   "metadata": {},
   "source": [
    "# MODELO 1 "
   ]
  },
  {
   "cell_type": "code",
   "execution_count": null,
   "id": "2e6ea043-e911-4848-a5ea-ad7e0ac90892",
   "metadata": {},
   "outputs": [],
   "source": [
    "#TRANSFER LEARNING\n",
    "#usamos ResNet50 que tiene 50 capas y esta entrenada con imageNet\n",
    "\n",
    "base_model=tf.keras.applications.resnet50.ResNet50(\n",
    "    include_top=False,#para que elimina las capas flatten finales\n",
    "    weights='imagenet',\n",
    "    input_tensor=None,\n",
    "    input_shape=(224,224,3),\n",
    ")\n",
    "#congelamos capas\n",
    "for layer in base_model.layers[:-2]:\n",
    "    layer.trainable=False\n"
   ]
  },
  {
   "cell_type": "code",
   "execution_count": null,
   "id": "17a71e0b-c955-4a47-baee-772b2b4cb4a8",
   "metadata": {},
   "outputs": [],
   "source": [
    "#conexion para transfer learning\n",
    "#nos enganchamos a la ultima capa\n",
    "x = base_model.layers[-2].output\n",
    "#añadimos capas para fine tuning\n",
    "x = tf.keras.layers.Flatten(name='cflatten')(x)\n",
    "\n",
    "x = tf.keras.layers.Dense(128,activation='relu',name='cD1')(x)\n",
    "#x = tf.keras.layers.Dropout(0.3)(x)\n",
    "\n",
    "x = tf.keras.layers.Dense(128,activation='relu',name='cD2')(x)\n",
    "#x = tf.keras.layers.Dropout(0.3)(x)\n",
    "\n",
    "output= tf.keras.layers.Dense(2,activation='softmax',name='output')(x)\n",
    "#ponemos la input layer del modelo y el resto con el fine tunning\n",
    "new_model = tf.keras.models.Model(base_model.inputs, output)"
   ]
  },
  {
   "cell_type": "code",
   "execution_count": null,
   "id": "ca3d0868-26c4-4784-bb7c-d453fba22d72",
   "metadata": {},
   "outputs": [],
   "source": [
    "new_model.compile(optimizer=tf.keras.optimizers.Adam(learning_rate=0.0001), loss=\"binary_crossentropy\", metrics=\"accuracy\")"
   ]
  },
  {
   "cell_type": "code",
   "execution_count": null,
   "id": "10730629-ef70-4a82-bb38-17aea5324989",
   "metadata": {},
   "outputs": [],
   "source": [
    "tensorboard=tf.keras.callbacks.TensorBoard(log_dir='logs/modelo.9')\n",
    "new_model.fit(\n",
    "    data_gen_entrenamiento,\n",
    "    epochs=3,\n",
    "    batch_size=34,\n",
    "    validation_data=data_gen_test,\n",
    "    steps_per_epoch=int(np.ceil(len(X)/float(32))),\n",
    "    #steps_per_epoch = total_samples / batch_size\n",
    "    validation_steps=int(np.ceil(len(Xtest)/float(32))),\n",
    "    #validation_steps = np.ceil(numero_total_muestras_validacion / tamano_lote_validacion).astype(int)\n",
    "    callbacks=[tensorboard]\n",
    ")"
   ]
  },
  {
   "cell_type": "code",
   "execution_count": null,
   "id": "00154ab4-d39e-4de9-a0ac-386f1213ac7f",
   "metadata": {},
   "outputs": [],
   "source": [
    "#HACEMOS UN TEST\n",
    "test_loss = new_model.evaluate(Xtest, Ytest)\n",
    "print(f\"Test loss is: {test_loss}\")"
   ]
  },
  {
   "cell_type": "code",
   "execution_count": null,
   "id": "0d517259-f14f-4a92-bae9-943e90078a4b",
   "metadata": {},
   "outputs": [],
   "source": [
    "new_model.save('Cocodrilo_vs_Alligator_70.h5')\n",
    "from IPython import display\n",
    "from ipywidgets import FileUpload\n",
    "\n",
    "display.FileLink('Cocodrilo_vs_Alligator_70.h5')\n",
    "display.display(display.FileLink('Cocodrilo_vs_Alligator_70.h5', result_html_prefix=\"Haz clic aquí para descargar: \"))"
   ]
  },
  {
   "cell_type": "code",
   "execution_count": null,
   "id": "25ddf108-cfcd-4f39-b8a8-1ba7d0507121",
   "metadata": {},
   "outputs": [],
   "source": [
    "%load_ext tensorboard\n",
    "\n",
    "# Lanzamiento de TensorBoard\n",
    "%tensorboard --logdir logs/modelo.7"
   ]
  },
  {
   "cell_type": "markdown",
   "id": "d9425a21-784e-4672-a991-21c127969d76",
   "metadata": {},
   "source": [
    "# MODELO 2"
   ]
  },
  {
   "cell_type": "code",
   "execution_count": 9,
   "id": "5cff4d26-2b4a-4359-ac83-fb1ca0bd61e3",
   "metadata": {},
   "outputs": [],
   "source": [
    "#TRANSFER LEARNING\n",
    "#usamos MobileNet que tiene 50 capas y esta entrenada con imageNet\n",
    "\n",
    "base_model=tf.keras.applications.mobilenet.MobileNet(\n",
    "    include_top=False,#para que elimina las capas flatten finales\n",
    "    weights='imagenet',\n",
    "    input_tensor=None,\n",
    "    input_shape=(224,224,3),\n",
    ")\n"
   ]
  },
  {
   "cell_type": "code",
   "execution_count": 10,
   "id": "2d3b253c-1336-4da0-8e52-ee6b26f1c2ef",
   "metadata": {},
   "outputs": [],
   "source": [
    "#conexion para transfer learning\n",
    "#nos enganchamos a la ultima capa\n",
    "x = base_model.layers[-1].output\n",
    "#añadimos capas para fine tuning\n",
    "x = tf.keras.layers.Flatten(name='cflatten')(x)\n",
    "\n",
    "x = tf.keras.layers.Dense(128,activation='relu',name='cD1')(x)\n",
    "x = tf.keras.layers.Dropout(0.3)(x)\n",
    "\n",
    "x = tf.keras.layers.Dense(128,activation='relu',name='cD2')(x)\n",
    "x = tf.keras.layers.Dropout(0.3)(x)\n",
    "\n",
    "output= tf.keras.layers.Dense(2,activation='softmax',name='output')(x) #usalmos softmax ya que las clases estan relaccionadas\n",
    "#ponemos la input layer del modelo y el resto con el fine tunning\n",
    "new_model = tf.keras.models.Model(base_model.inputs, output)"
   ]
  },
  {
   "cell_type": "code",
   "execution_count": 11,
   "id": "fe351342-b07b-4cdb-8a6c-ab64fdcf8d78",
   "metadata": {},
   "outputs": [],
   "source": [
    "new_model.compile(optimizer=tf.keras.optimizers.Adam(learning_rate=0.0001), loss=\"binary_crossentropy\", metrics=\"accuracy\")"
   ]
  },
  {
   "cell_type": "code",
   "execution_count": 12,
   "id": "5a9e5869-1025-49e1-9d4a-9bd5682fed1b",
   "metadata": {},
   "outputs": [
    {
     "name": "stdout",
     "output_type": "stream",
     "text": [
      "Epoch 1/10\n",
      "98/98 [==============================] - 48s 427ms/step - loss: 0.7883 - accuracy: 0.7147 - val_loss: 0.6905 - val_accuracy: 0.8871\n",
      "Epoch 2/10\n",
      "98/98 [==============================] - 41s 417ms/step - loss: 0.6972 - accuracy: 0.9299 - val_loss: 0.6901 - val_accuracy: 0.9927\n",
      "Epoch 3/10\n",
      "98/98 [==============================] - 41s 418ms/step - loss: 0.6944 - accuracy: 0.9862 - val_loss: 0.6906 - val_accuracy: 0.9964\n",
      "Epoch 4/10\n",
      "98/98 [==============================] - 41s 421ms/step - loss: 0.6941 - accuracy: 0.9868 - val_loss: 0.6893 - val_accuracy: 1.0000\n",
      "Epoch 5/10\n",
      "98/98 [==============================] - 41s 417ms/step - loss: 0.6933 - accuracy: 0.9897 - val_loss: 0.6923 - val_accuracy: 0.9617\n",
      "Epoch 6/10\n",
      "98/98 [==============================] - 41s 416ms/step - loss: 0.6928 - accuracy: 0.9749 - val_loss: 0.6974 - val_accuracy: 0.9982\n",
      "Epoch 7/10\n",
      "98/98 [==============================] - 41s 417ms/step - loss: 0.6933 - accuracy: 0.9785 - val_loss: 0.6919 - val_accuracy: 0.9818\n",
      "Epoch 8/10\n",
      "98/98 [==============================] - 41s 416ms/step - loss: 0.6927 - accuracy: 0.9798 - val_loss: 0.6919 - val_accuracy: 0.9909\n",
      "Epoch 9/10\n",
      "98/98 [==============================] - 41s 418ms/step - loss: 0.6934 - accuracy: 0.9647 - val_loss: 0.6921 - val_accuracy: 0.9982\n",
      "Epoch 10/10\n",
      "98/98 [==============================] - 41s 418ms/step - loss: 0.6924 - accuracy: 0.9589 - val_loss: 0.6913 - val_accuracy: 0.9891\n"
     ]
    }
   ],
   "source": [
    "#tensorboard=tf.keras.callbacks.TensorBoard(log_dir='logs/modelo.5')\n",
    "history=new_model.fit(\n",
    "    data_gen_entrenamiento,\n",
    "    epochs=10,batch_size=16,\n",
    "    validation_data=data_gen_test,\n",
    "    steps_per_epoch=int(np.ceil(len(X)/float(32))),\n",
    "    #steps_per_epoch = total_samples / batch_size\n",
    "    validation_steps=int(np.ceil(len(Xtest)/float(32))),\n",
    "    #validation_steps = np.ceil(numero_total_muestras_validacion / tamano_lote_validacion).astype(int)\n",
    "    #callbacks=[tensorboard]\n",
    ")"
   ]
  },
  {
   "cell_type": "code",
   "execution_count": 13,
   "id": "dfc6598b-6012-4b7e-9354-834ab85636e7",
   "metadata": {},
   "outputs": [
    {
     "data": {
      "image/png": "[encoded data removed]",
      "text/plain": [
       "<Figure size 1200x400 with 2 Axes>"
      ]
     },
     "metadata": {},
     "output_type": "display_data"
    }
   ],
   "source": [
    "# Extraer la información de la pérdida y la precisión de los historiales\n",
    "train_loss = history.history['loss']\n",
    "val_loss = history.history['val_loss']\n",
    "train_acc = history.history['accuracy']\n",
    "val_acc = history.history['val_accuracy']\n",
    "\n",
    "# Graficar la pérdida durante el entrenamiento y la validación\n",
    "plt.figure(figsize=(12, 4))\n",
    "plt.subplot(1, 2, 1)\n",
    "plt.plot(train_loss, label='Training Loss')\n",
    "plt.plot(val_loss, label='Validation Loss')\n",
    "plt.xlabel('Epoch')\n",
    "plt.ylabel('Loss')\n",
    "plt.legend()\n",
    "plt.title('Training vs Validation Loss')\n",
    "\n",
    "# Graficar la precisión durante el entrenamiento y la validación\n",
    "plt.subplot(1, 2, 2)\n",
    "plt.plot(train_acc, label='Training Accuracy')\n",
    "plt.plot(val_acc, label='Validation Accuracy')\n",
    "plt.xlabel('Epoch')\n",
    "plt.ylabel('Accuracy')\n",
    "plt.legend()\n",
    "plt.title('Training vs Validation Accuracy')\n",
    "\n",
    "# Ajustar el diseño de los gráficos y mostrarlos\n",
    "plt.tight_layout()\n",
    "plt.show()"
   ]
  },
  {
   "cell_type": "code",
   "execution_count": 14,
   "id": "b960840e-db78-458d-b0c9-41596056a190",
   "metadata": {},
   "outputs": [
    {
     "name": "stdout",
     "output_type": "stream",
     "text": [
      "18/18 [==============================] - 1s 24ms/step - loss: 0.6912 - accuracy: 0.9872\n",
      "Test loss is: [0.6911954879760742, 0.9872495532035828]\n"
     ]
    }
   ],
   "source": [
    "#HACEMOS UN TEST\n",
    "test_loss = new_model.evaluate(Xtest, Ytest)\n",
    "print(f\"Test loss is: {test_loss}\")"
   ]
  },
  {
   "cell_type": "code",
   "execution_count": 15,
   "id": "d3676493-a8da-4838-bd83-daebd37f9e71",
   "metadata": {},
   "outputs": [
    {
     "data": {
      "text/html": [
       "Haz clic aquí para descargar: <a href='Cocodrilo_vs_Alligator_98.h5' target='_blank'>Cocodrilo_vs_Alligator_98.h5</a><br>"
      ],
      "text/plain": [
       "C:\\Users\\Miguel\\Cocodrilo_vs_Alligator_98.h5"
      ]
     },
     "metadata": {},
     "output_type": "display_data"
    }
   ],
   "source": [
    "new_model.save('Cocodrilo_vs_Alligator_98.h5')\n",
    "from IPython import display\n",
    "from ipywidgets import FileUpload\n",
    "\n",
    "display.FileLink('Cocodrilo_vs_Alligator_98.h5')\n",
    "display.display(display.FileLink('Cocodrilo_vs_Alligator_98.h5', result_html_prefix=\"Haz clic aquí para descargar: \"))"
   ]
  },
  {
   "cell_type": "code",
   "execution_count": null,
   "id": "582b6025-4261-4869-a049-15bc559ad4ed",
   "metadata": {},
   "outputs": [],
   "source": []
  }
 ],
 "metadata": {
  "kernelspec": {
   "display_name": "Python 3 (ipykernel)",
   "language": "python",
   "name": "python3"
  },
  "language_info": {
   "codemirror_mode": {
    "name": "ipython",
    "version": 3
   },
   "file_extension": ".py",
   "mimetype": "text/x-python",
   "name": "python",
   "nbconvert_exporter": "python",
   "pygments_lexer": "ipython3",
   "version": "3.10.13"
  }
 },
 "nbformat": 4,
 "nbformat_minor": 5
}
